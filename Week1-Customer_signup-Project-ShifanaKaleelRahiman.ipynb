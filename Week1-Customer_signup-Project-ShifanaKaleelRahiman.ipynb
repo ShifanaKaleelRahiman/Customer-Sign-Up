{
 "cells": [
  {
   "attachments": {},
   "cell_type": "markdown",
   "id": "4d4d2368-13be-44b9-b92a-c90925d460bb",
   "metadata": {},
   "source": [
    "#  UPTRAIL - Week 1 - Customer Sign-Up Behaviour & Data Quality Audit"
   ]
  },
  {
   "cell_type": "markdown",
   "id": "5c4b76da-2f44-4003-b23e-16045d5f40f9",
   "metadata": {},
   "source": [
    "## 1. Load & Clean the Data"
   ]
  },
  {
   "cell_type": "markdown",
   "id": "ab9679b6-747d-4006-b2c2-03bebb263661",
   "metadata": {},
   "source": [
    "### 1.1 - Importing Libraries"
   ]
  },
  {
   "cell_type": "code",
   "execution_count": 4,
   "id": "bae7f5a8-1973-4e85-9216-1bb18a4e4155",
   "metadata": {},
   "outputs": [],
   "source": [
    "import pandas as pd\n",
    "import numpy as np"
   ]
  },
  {
   "cell_type": "code",
   "execution_count": 5,
   "id": "45186866-a8b6-4394-98fa-573a18d32fe6",
   "metadata": {
    "panel-layout": {
     "height": 8138,
     "visible": true,
     "width": 100
    },
    "scrolled": true
   },
   "outputs": [
    {
     "data": {
      "text/html": [
       "<div>\n",
       "<style scoped>\n",
       "    .dataframe tbody tr th:only-of-type {\n",
       "        vertical-align: middle;\n",
       "    }\n",
       "\n",
       "    .dataframe tbody tr th {\n",
       "        vertical-align: top;\n",
       "    }\n",
       "\n",
       "    .dataframe thead th {\n",
       "        text-align: right;\n",
       "    }\n",
       "</style>\n",
       "<table border=\"1\" class=\"dataframe\">\n",
       "  <thead>\n",
       "    <tr style=\"text-align: right;\">\n",
       "      <th></th>\n",
       "      <th>customer_id</th>\n",
       "      <th>name</th>\n",
       "      <th>email</th>\n",
       "      <th>signup_date</th>\n",
       "      <th>source</th>\n",
       "      <th>region</th>\n",
       "      <th>plan_selected</th>\n",
       "      <th>marketing_opt_in</th>\n",
       "      <th>age</th>\n",
       "      <th>gender</th>\n",
       "    </tr>\n",
       "  </thead>\n",
       "  <tbody>\n",
       "    <tr>\n",
       "      <th>0</th>\n",
       "      <td>CUST00000</td>\n",
       "      <td>Joshua Bryant</td>\n",
       "      <td>NaN</td>\n",
       "      <td>NaN</td>\n",
       "      <td>Instagram</td>\n",
       "      <td>NaN</td>\n",
       "      <td>basic</td>\n",
       "      <td>No</td>\n",
       "      <td>34</td>\n",
       "      <td>Female</td>\n",
       "    </tr>\n",
       "    <tr>\n",
       "      <th>1</th>\n",
       "      <td>CUST00001</td>\n",
       "      <td>Nicole Stewart</td>\n",
       "      <td>nicole1@example.com</td>\n",
       "      <td>02-01-24</td>\n",
       "      <td>LinkedIn</td>\n",
       "      <td>West</td>\n",
       "      <td>basic</td>\n",
       "      <td>Yes</td>\n",
       "      <td>29</td>\n",
       "      <td>Male</td>\n",
       "    </tr>\n",
       "    <tr>\n",
       "      <th>2</th>\n",
       "      <td>CUST00002</td>\n",
       "      <td>Rachel Allen</td>\n",
       "      <td>rachel2@example.com</td>\n",
       "      <td>03-01-24</td>\n",
       "      <td>Google</td>\n",
       "      <td>North</td>\n",
       "      <td>PREMIUM</td>\n",
       "      <td>Yes</td>\n",
       "      <td>34</td>\n",
       "      <td>Non-Binary</td>\n",
       "    </tr>\n",
       "    <tr>\n",
       "      <th>3</th>\n",
       "      <td>CUST00003</td>\n",
       "      <td>Zachary Sanchez</td>\n",
       "      <td>zachary3@mailhub.org</td>\n",
       "      <td>04-01-24</td>\n",
       "      <td>YouTube</td>\n",
       "      <td>NaN</td>\n",
       "      <td>Pro</td>\n",
       "      <td>No</td>\n",
       "      <td>40</td>\n",
       "      <td>Male</td>\n",
       "    </tr>\n",
       "    <tr>\n",
       "      <th>4</th>\n",
       "      <td>CUST00004</td>\n",
       "      <td>NaN</td>\n",
       "      <td>matthew4@mailhub.org</td>\n",
       "      <td>05-01-24</td>\n",
       "      <td>LinkedIn</td>\n",
       "      <td>West</td>\n",
       "      <td>Premium</td>\n",
       "      <td>No</td>\n",
       "      <td>25</td>\n",
       "      <td>Other</td>\n",
       "    </tr>\n",
       "    <tr>\n",
       "      <th>...</th>\n",
       "      <td>...</td>\n",
       "      <td>...</td>\n",
       "      <td>...</td>\n",
       "      <td>...</td>\n",
       "      <td>...</td>\n",
       "      <td>...</td>\n",
       "      <td>...</td>\n",
       "      <td>...</td>\n",
       "      <td>...</td>\n",
       "      <td>...</td>\n",
       "    </tr>\n",
       "    <tr>\n",
       "      <th>295</th>\n",
       "      <td>CUST00295</td>\n",
       "      <td>Gary Smith</td>\n",
       "      <td>gary95@example.com</td>\n",
       "      <td>22-10-24</td>\n",
       "      <td>Google</td>\n",
       "      <td>West</td>\n",
       "      <td>PREMIUM</td>\n",
       "      <td>Yes</td>\n",
       "      <td>40</td>\n",
       "      <td>NaN</td>\n",
       "    </tr>\n",
       "    <tr>\n",
       "      <th>296</th>\n",
       "      <td>CUST00296</td>\n",
       "      <td>Anthony Roberts</td>\n",
       "      <td>anthony96@mailhub.org</td>\n",
       "      <td>23-10-24</td>\n",
       "      <td>Google</td>\n",
       "      <td>Central</td>\n",
       "      <td>Basic</td>\n",
       "      <td>Yes</td>\n",
       "      <td>25</td>\n",
       "      <td>Female</td>\n",
       "    </tr>\n",
       "    <tr>\n",
       "      <th>297</th>\n",
       "      <td>CUST00297</td>\n",
       "      <td>Timothy Mclaughlin</td>\n",
       "      <td>NaN</td>\n",
       "      <td>24-10-24</td>\n",
       "      <td>Instagram</td>\n",
       "      <td>West</td>\n",
       "      <td>Basic</td>\n",
       "      <td>Yes</td>\n",
       "      <td>60</td>\n",
       "      <td>NaN</td>\n",
       "    </tr>\n",
       "    <tr>\n",
       "      <th>298</th>\n",
       "      <td>CUST00298</td>\n",
       "      <td>Justin Mcintyre</td>\n",
       "      <td>justin98@mailhub.org</td>\n",
       "      <td>25-10-24</td>\n",
       "      <td>YouTube</td>\n",
       "      <td>South</td>\n",
       "      <td>Premium</td>\n",
       "      <td>No</td>\n",
       "      <td>53</td>\n",
       "      <td>male</td>\n",
       "    </tr>\n",
       "    <tr>\n",
       "      <th>299</th>\n",
       "      <td>CUST00299</td>\n",
       "      <td>Mr. Bruce Bridges</td>\n",
       "      <td>mr.99@example.com</td>\n",
       "      <td>26-10-24</td>\n",
       "      <td>NaN</td>\n",
       "      <td>North</td>\n",
       "      <td>Premium</td>\n",
       "      <td>Yes</td>\n",
       "      <td>29</td>\n",
       "      <td>Male</td>\n",
       "    </tr>\n",
       "  </tbody>\n",
       "</table>\n",
       "<p>300 rows × 10 columns</p>\n",
       "</div>"
      ],
      "text/plain": [
       "    customer_id                name                  email signup_date  \\\n",
       "0     CUST00000       Joshua Bryant                    NaN         NaN   \n",
       "1     CUST00001      Nicole Stewart    nicole1@example.com    02-01-24   \n",
       "2     CUST00002        Rachel Allen    rachel2@example.com    03-01-24   \n",
       "3     CUST00003     Zachary Sanchez   zachary3@mailhub.org    04-01-24   \n",
       "4     CUST00004                 NaN   matthew4@mailhub.org    05-01-24   \n",
       "..          ...                 ...                    ...         ...   \n",
       "295   CUST00295          Gary Smith     gary95@example.com    22-10-24   \n",
       "296   CUST00296     Anthony Roberts  anthony96@mailhub.org    23-10-24   \n",
       "297   CUST00297  Timothy Mclaughlin                    NaN    24-10-24   \n",
       "298   CUST00298     Justin Mcintyre   justin98@mailhub.org    25-10-24   \n",
       "299   CUST00299   Mr. Bruce Bridges      mr.99@example.com    26-10-24   \n",
       "\n",
       "        source   region plan_selected marketing_opt_in age      gender  \n",
       "0    Instagram      NaN         basic               No  34      Female  \n",
       "1     LinkedIn     West         basic              Yes  29        Male  \n",
       "2       Google    North       PREMIUM              Yes  34  Non-Binary  \n",
       "3      YouTube      NaN           Pro               No  40        Male  \n",
       "4     LinkedIn     West       Premium               No  25       Other  \n",
       "..         ...      ...           ...              ...  ..         ...  \n",
       "295     Google     West       PREMIUM              Yes  40         NaN  \n",
       "296     Google  Central         Basic              Yes  25      Female  \n",
       "297  Instagram     West         Basic              Yes  60         NaN  \n",
       "298    YouTube    South       Premium               No  53        male  \n",
       "299        NaN    North       Premium              Yes  29        Male  \n",
       "\n",
       "[300 rows x 10 columns]"
      ]
     },
     "execution_count": 5,
     "metadata": {},
     "output_type": "execute_result"
    }
   ],
   "source": [
    "df = pd.read_csv('UPTRAIL/customer_signups.csv')\n",
    "df"
   ]
  },
  {
   "cell_type": "markdown",
   "id": "06450664-3a18-4b12-a8ee-f1cd34d9232f",
   "metadata": {
    "jp-MarkdownHeadingCollapsed": true,
    "panel-layout": {
     "height": 234.40625,
     "visible": true,
     "width": 100
    }
   },
   "source": [
    "#### Columns in the Dataframe\n",
    "\n",
    "1. customer_id - Unique identifier for each customer\n",
    "2. name - Customer's full name\n",
    "3. email - Customer's email address\n",
    "4. signup_date - Date when customer signed up\n",
    "5. source - Acquisition channel or how the customer found the service\n",
    "6. region - Geographic location of the customer\n",
    "7. plan_selected - Subscription plan or product tier chosen\n",
    "8. marketing_opt_in - Whether customer has opted in to marketing communications\n",
    "9. age - Customer's age\n",
    "10. gender - Customer's gender"
   ]
  },
  {
   "cell_type": "markdown",
   "id": "5239ed5e-7538-4810-8c62-cb058889bcfb",
   "metadata": {},
   "source": [
    "### 1.2 - Identify missing values, data types, and column structure"
   ]
  },
  {
   "cell_type": "code",
   "execution_count": 8,
   "id": "7552fb25-3c60-45a9-93d1-807716c8b09e",
   "metadata": {
    "panel-layout": {
     "height": 308,
     "visible": true,
     "width": 100
    }
   },
   "outputs": [
    {
     "data": {
      "text/plain": [
       "customer_id          2\n",
       "name                 9\n",
       "email               34\n",
       "signup_date          2\n",
       "source               9\n",
       "region              30\n",
       "plan_selected        8\n",
       "marketing_opt_in    10\n",
       "age                 12\n",
       "gender               8\n",
       "dtype: int64"
      ]
     },
     "execution_count": 8,
     "metadata": {},
     "output_type": "execute_result"
    }
   ],
   "source": [
    "null_counts = df.isnull().sum()      #Find the null value in each coulumns \n",
    "null_counts"
   ]
  },
  {
   "cell_type": "code",
   "execution_count": 9,
   "id": "ab53e5a3-cd38-41c8-aa49-6ff21e843dcd",
   "metadata": {
    "panel-layout": {
     "height": 308,
     "visible": true,
     "width": 100
    }
   },
   "outputs": [
    {
     "data": {
      "text/plain": [
       "customer_id         object\n",
       "name                object\n",
       "email               object\n",
       "signup_date         object\n",
       "source              object\n",
       "region              object\n",
       "plan_selected       object\n",
       "marketing_opt_in    object\n",
       "age                 object\n",
       "gender              object\n",
       "dtype: object"
      ]
     },
     "execution_count": 9,
     "metadata": {},
     "output_type": "execute_result"
    }
   ],
   "source": [
    "df.dtypes          #Displays the datatypes of each column"
   ]
  },
  {
   "cell_type": "code",
   "execution_count": 10,
   "id": "478e9d1d-cfe5-4613-ad19-8631099d7bbd",
   "metadata": {
    "panel-layout": {
     "height": 0,
     "visible": true,
     "width": 100
    }
   },
   "outputs": [
    {
     "name": "stdout",
     "output_type": "stream",
     "text": [
      "<class 'pandas.core.frame.DataFrame'>\n",
      "RangeIndex: 300 entries, 0 to 299\n",
      "Data columns (total 10 columns):\n",
      " #   Column            Non-Null Count  Dtype \n",
      "---  ------            --------------  ----- \n",
      " 0   customer_id       298 non-null    object\n",
      " 1   name              291 non-null    object\n",
      " 2   email             266 non-null    object\n",
      " 3   signup_date       298 non-null    object\n",
      " 4   source            291 non-null    object\n",
      " 5   region            270 non-null    object\n",
      " 6   plan_selected     292 non-null    object\n",
      " 7   marketing_opt_in  290 non-null    object\n",
      " 8   age               288 non-null    object\n",
      " 9   gender            292 non-null    object\n",
      "dtypes: object(10)\n",
      "memory usage: 23.6+ KB\n"
     ]
    }
   ],
   "source": [
    "df.info()  # Index, Summary of columns, Non-nulls counts, Dtypes"
   ]
  },
  {
   "cell_type": "markdown",
   "id": "a0223dac-64ce-4b2b-a041-b58c82c835af",
   "metadata": {
    "panel-layout": {
     "height": 51.140625,
     "visible": true,
     "width": 100
    }
   },
   "source": [
    "### 1.3 - Convert signup_date to datetime"
   ]
  },
  {
   "cell_type": "code",
   "execution_count": 12,
   "id": "29229e1e-b697-4de9-86eb-109a760b5fdb",
   "metadata": {
    "panel-layout": {
     "height": 8138.000977,
     "visible": true,
     "width": 100
    }
   },
   "outputs": [
    {
     "name": "stderr",
     "output_type": "stream",
     "text": [
      "/var/folders/cp/ppr7gj1102lcjn2shl1ggyn40000gn/T/ipykernel_6807/52896520.py:1: UserWarning: Could not infer format, so each element will be parsed individually, falling back to `dateutil`. To ensure parsing is consistent and as-expected, please specify a format.\n",
      "  df['signup_date'] = pd.to_datetime(df['signup_date'], dayfirst=True ,errors = 'coerce')\n"
     ]
    },
    {
     "data": {
      "text/plain": [
       "0            NaT\n",
       "1     2024-01-02\n",
       "2     2024-01-03\n",
       "3     2024-01-04\n",
       "4     2024-01-05\n",
       "         ...    \n",
       "295   2024-10-22\n",
       "296   2024-10-23\n",
       "297   2024-10-24\n",
       "298   2024-10-25\n",
       "299   2024-10-26\n",
       "Name: signup_date, Length: 300, dtype: datetime64[ns]"
      ]
     },
     "execution_count": 12,
     "metadata": {},
     "output_type": "execute_result"
    }
   ],
   "source": [
    "df['signup_date'] = pd.to_datetime(df['signup_date'], dayfirst=True ,errors = 'coerce')\n",
    "df['signup_date']"
   ]
  },
  {
   "cell_type": "markdown",
   "id": "d819d6d7-6b2c-40e5-8035-a0dc350a84c8",
   "metadata": {},
   "source": [
    "### 1.4 - Standardise inconsistent text values (plan_selected, gender, etc.)"
   ]
  },
  {
   "cell_type": "markdown",
   "id": "53e88717-1b25-4d42-81b9-12efd0012b64",
   "metadata": {},
   "source": [
    "#### 1.4.1 Customer_id"
   ]
  },
  {
   "cell_type": "code",
   "execution_count": 15,
   "id": "92115fc6-2fa4-4cc7-a717-9dfd77a0fd11",
   "metadata": {},
   "outputs": [
    {
     "data": {
      "text/html": [
       "<div>\n",
       "<style scoped>\n",
       "    .dataframe tbody tr th:only-of-type {\n",
       "        vertical-align: middle;\n",
       "    }\n",
       "\n",
       "    .dataframe tbody tr th {\n",
       "        vertical-align: top;\n",
       "    }\n",
       "\n",
       "    .dataframe thead th {\n",
       "        text-align: right;\n",
       "    }\n",
       "</style>\n",
       "<table border=\"1\" class=\"dataframe\">\n",
       "  <thead>\n",
       "    <tr style=\"text-align: right;\">\n",
       "      <th></th>\n",
       "      <th>customer_id</th>\n",
       "      <th>name</th>\n",
       "      <th>email</th>\n",
       "      <th>signup_date</th>\n",
       "      <th>source</th>\n",
       "      <th>region</th>\n",
       "      <th>plan_selected</th>\n",
       "      <th>marketing_opt_in</th>\n",
       "      <th>age</th>\n",
       "      <th>gender</th>\n",
       "    </tr>\n",
       "  </thead>\n",
       "  <tbody>\n",
       "    <tr>\n",
       "      <th>161</th>\n",
       "      <td>NaN</td>\n",
       "      <td>Robert Carter</td>\n",
       "      <td>robert61@example.com</td>\n",
       "      <td>2024-06-10</td>\n",
       "      <td>LinkedIn</td>\n",
       "      <td>South</td>\n",
       "      <td>Pro</td>\n",
       "      <td>Yes</td>\n",
       "      <td>34</td>\n",
       "      <td>Male</td>\n",
       "    </tr>\n",
       "    <tr>\n",
       "      <th>287</th>\n",
       "      <td>NaN</td>\n",
       "      <td>Antonio Hammond</td>\n",
       "      <td>antonio87@inboxmail.net</td>\n",
       "      <td>2024-10-14</td>\n",
       "      <td>Instagram</td>\n",
       "      <td>West</td>\n",
       "      <td>prem</td>\n",
       "      <td>Yes</td>\n",
       "      <td>25</td>\n",
       "      <td>FEMALE</td>\n",
       "    </tr>\n",
       "  </tbody>\n",
       "</table>\n",
       "</div>"
      ],
      "text/plain": [
       "    customer_id             name                    email signup_date  \\\n",
       "161         NaN    Robert Carter     robert61@example.com  2024-06-10   \n",
       "287         NaN  Antonio Hammond  antonio87@inboxmail.net  2024-10-14   \n",
       "\n",
       "        source region plan_selected marketing_opt_in age  gender  \n",
       "161   LinkedIn  South           Pro              Yes  34    Male  \n",
       "287  Instagram   West          prem              Yes  25  FEMALE  "
      ]
     },
     "execution_count": 15,
     "metadata": {},
     "output_type": "execute_result"
    }
   ],
   "source": [
    "null_id  = df[df['customer_id'].isnull()]\n",
    "null_id"
   ]
  },
  {
   "cell_type": "code",
   "execution_count": 16,
   "id": "0ad16ab2-331e-4cb2-9a83-c768db521552",
   "metadata": {},
   "outputs": [
    {
     "data": {
      "text/html": [
       "<div>\n",
       "<style scoped>\n",
       "    .dataframe tbody tr th:only-of-type {\n",
       "        vertical-align: middle;\n",
       "    }\n",
       "\n",
       "    .dataframe tbody tr th {\n",
       "        vertical-align: top;\n",
       "    }\n",
       "\n",
       "    .dataframe thead th {\n",
       "        text-align: right;\n",
       "    }\n",
       "</style>\n",
       "<table border=\"1\" class=\"dataframe\">\n",
       "  <thead>\n",
       "    <tr style=\"text-align: right;\">\n",
       "      <th></th>\n",
       "      <th>customer_id</th>\n",
       "      <th>name</th>\n",
       "      <th>email</th>\n",
       "      <th>signup_date</th>\n",
       "      <th>source</th>\n",
       "      <th>region</th>\n",
       "      <th>plan_selected</th>\n",
       "      <th>marketing_opt_in</th>\n",
       "      <th>age</th>\n",
       "      <th>gender</th>\n",
       "    </tr>\n",
       "  </thead>\n",
       "  <tbody>\n",
       "    <tr>\n",
       "      <th>161</th>\n",
       "      <td>CUST00161</td>\n",
       "      <td>Robert Carter</td>\n",
       "      <td>robert61@example.com</td>\n",
       "      <td>2024-06-10</td>\n",
       "      <td>LinkedIn</td>\n",
       "      <td>South</td>\n",
       "      <td>Pro</td>\n",
       "      <td>Yes</td>\n",
       "      <td>34</td>\n",
       "      <td>Male</td>\n",
       "    </tr>\n",
       "    <tr>\n",
       "      <th>287</th>\n",
       "      <td>CUST00287</td>\n",
       "      <td>Antonio Hammond</td>\n",
       "      <td>antonio87@inboxmail.net</td>\n",
       "      <td>2024-10-14</td>\n",
       "      <td>Instagram</td>\n",
       "      <td>West</td>\n",
       "      <td>prem</td>\n",
       "      <td>Yes</td>\n",
       "      <td>25</td>\n",
       "      <td>FEMALE</td>\n",
       "    </tr>\n",
       "  </tbody>\n",
       "</table>\n",
       "</div>"
      ],
      "text/plain": [
       "    customer_id             name                    email signup_date  \\\n",
       "161   CUST00161    Robert Carter     robert61@example.com  2024-06-10   \n",
       "287   CUST00287  Antonio Hammond  antonio87@inboxmail.net  2024-10-14   \n",
       "\n",
       "        source region plan_selected marketing_opt_in age  gender  \n",
       "161   LinkedIn  South           Pro              Yes  34    Male  \n",
       "287  Instagram   West          prem              Yes  25  FEMALE  "
      ]
     },
     "execution_count": 16,
     "metadata": {},
     "output_type": "execute_result"
    }
   ],
   "source": [
    "#Fill the null values with lambda functions \n",
    "df['customer_id'] = df['customer_id'].fillna(df.index.to_series().apply(lambda x: f\"CUST{x:05d}\"))\n",
    "df['customer_id']\n",
    "\n",
    "df.loc[[161,287]]"
   ]
  },
  {
   "cell_type": "markdown",
   "id": "bcf464a3-669b-4230-be89-cc5944a393cc",
   "metadata": {},
   "source": [
    "#### 1.4.2 Name and E-mail "
   ]
  },
  {
   "cell_type": "code",
   "execution_count": 18,
   "id": "0765d888-8fef-4ffa-a610-f9cd68ba5b8a",
   "metadata": {},
   "outputs": [
    {
     "data": {
      "text/plain": [
       "0                        NaN\n",
       "1        nicole1@example.com\n",
       "2        rachel2@example.com\n",
       "3       zachary3@mailhub.org\n",
       "4       matthew4@mailhub.org\n",
       "               ...          \n",
       "295       gary95@example.com\n",
       "296    anthony96@mailhub.org\n",
       "297                      NaN\n",
       "298     justin98@mailhub.org\n",
       "299        mr.99@example.com\n",
       "Name: email, Length: 300, dtype: object"
      ]
     },
     "execution_count": 18,
     "metadata": {},
     "output_type": "execute_result"
    }
   ],
   "source": [
    "df['name'].str.strip()\n",
    "df['email'].str.strip()"
   ]
  },
  {
   "cell_type": "markdown",
   "id": "048ce834-2fe0-4409-a5a8-9f19caa2909d",
   "metadata": {},
   "source": [
    "#### 1.4.3 Source, Region, Plan selected, Gender"
   ]
  },
  {
   "cell_type": "code",
   "execution_count": 20,
   "id": "5b339443-9494-4325-83f1-88bcde7a5954",
   "metadata": {},
   "outputs": [
    {
     "data": {
      "text/html": [
       "<div>\n",
       "<style scoped>\n",
       "    .dataframe tbody tr th:only-of-type {\n",
       "        vertical-align: middle;\n",
       "    }\n",
       "\n",
       "    .dataframe tbody tr th {\n",
       "        vertical-align: top;\n",
       "    }\n",
       "\n",
       "    .dataframe thead th {\n",
       "        text-align: right;\n",
       "    }\n",
       "</style>\n",
       "<table border=\"1\" class=\"dataframe\">\n",
       "  <thead>\n",
       "    <tr style=\"text-align: right;\">\n",
       "      <th></th>\n",
       "      <th>source</th>\n",
       "      <th>region</th>\n",
       "      <th>plan_selected</th>\n",
       "      <th>gender</th>\n",
       "    </tr>\n",
       "  </thead>\n",
       "  <tbody>\n",
       "    <tr>\n",
       "      <th>0</th>\n",
       "      <td>instagram</td>\n",
       "      <td>nan</td>\n",
       "      <td>basic</td>\n",
       "      <td>female</td>\n",
       "    </tr>\n",
       "    <tr>\n",
       "      <th>1</th>\n",
       "      <td>linkedin</td>\n",
       "      <td>west</td>\n",
       "      <td>basic</td>\n",
       "      <td>male</td>\n",
       "    </tr>\n",
       "    <tr>\n",
       "      <th>2</th>\n",
       "      <td>google</td>\n",
       "      <td>north</td>\n",
       "      <td>premium</td>\n",
       "      <td>non-binary</td>\n",
       "    </tr>\n",
       "    <tr>\n",
       "      <th>3</th>\n",
       "      <td>youtube</td>\n",
       "      <td>nan</td>\n",
       "      <td>pro</td>\n",
       "      <td>male</td>\n",
       "    </tr>\n",
       "    <tr>\n",
       "      <th>4</th>\n",
       "      <td>linkedin</td>\n",
       "      <td>west</td>\n",
       "      <td>premium</td>\n",
       "      <td>other</td>\n",
       "    </tr>\n",
       "    <tr>\n",
       "      <th>...</th>\n",
       "      <td>...</td>\n",
       "      <td>...</td>\n",
       "      <td>...</td>\n",
       "      <td>...</td>\n",
       "    </tr>\n",
       "    <tr>\n",
       "      <th>295</th>\n",
       "      <td>google</td>\n",
       "      <td>west</td>\n",
       "      <td>premium</td>\n",
       "      <td>nan</td>\n",
       "    </tr>\n",
       "    <tr>\n",
       "      <th>296</th>\n",
       "      <td>google</td>\n",
       "      <td>central</td>\n",
       "      <td>basic</td>\n",
       "      <td>female</td>\n",
       "    </tr>\n",
       "    <tr>\n",
       "      <th>297</th>\n",
       "      <td>instagram</td>\n",
       "      <td>west</td>\n",
       "      <td>basic</td>\n",
       "      <td>nan</td>\n",
       "    </tr>\n",
       "    <tr>\n",
       "      <th>298</th>\n",
       "      <td>youtube</td>\n",
       "      <td>south</td>\n",
       "      <td>premium</td>\n",
       "      <td>male</td>\n",
       "    </tr>\n",
       "    <tr>\n",
       "      <th>299</th>\n",
       "      <td>nan</td>\n",
       "      <td>north</td>\n",
       "      <td>premium</td>\n",
       "      <td>male</td>\n",
       "    </tr>\n",
       "  </tbody>\n",
       "</table>\n",
       "<p>300 rows × 4 columns</p>\n",
       "</div>"
      ],
      "text/plain": [
       "        source   region plan_selected      gender\n",
       "0    instagram      nan         basic      female\n",
       "1     linkedin     west         basic        male\n",
       "2       google    north       premium  non-binary\n",
       "3      youtube      nan           pro        male\n",
       "4     linkedin     west       premium       other\n",
       "..         ...      ...           ...         ...\n",
       "295     google     west       premium         nan\n",
       "296     google  central         basic      female\n",
       "297  instagram     west         basic         nan\n",
       "298    youtube    south       premium        male\n",
       "299        nan    north       premium        male\n",
       "\n",
       "[300 rows x 4 columns]"
      ]
     },
     "execution_count": 20,
     "metadata": {},
     "output_type": "execute_result"
    }
   ],
   "source": [
    "#Convert all datas to lowercase  \n",
    "\n",
    "df[['source','region','plan_selected','gender']] = df[['source','region','plan_selected','gender']].astype(str).apply(lambda x: x.str.lower())\n",
    "df[['source','region','plan_selected','gender']]    "
   ]
  },
  {
   "cell_type": "code",
   "execution_count": 21,
   "id": "934757e3-ac06-40f3-bf3c-9eea61a867f8",
   "metadata": {},
   "outputs": [
    {
     "name": "stdout",
     "output_type": "stream",
     "text": [
      "['instagram' 'linkedin' 'google' 'youtube' 'facebook' 'referral' 'nan'\n",
      " '??']\n"
     ]
    },
    {
     "data": {
      "text/plain": [
       "0      instagram\n",
       "1       linkedin\n",
       "2         google\n",
       "3        youtube\n",
       "4       linkedin\n",
       "         ...    \n",
       "295       google\n",
       "296       google\n",
       "297    instagram\n",
       "298      youtube\n",
       "299          nan\n",
       "Name: source, Length: 300, dtype: object"
      ]
     },
     "execution_count": 21,
     "metadata": {},
     "output_type": "execute_result"
    }
   ],
   "source": [
    "print(df['source'].unique())\n",
    "\n",
    "#Replace the inncorrect values to proper form\n",
    "\n",
    "df['source']= df['source'].replace('??',np.nan)\n",
    "df['source']"
   ]
  },
  {
   "cell_type": "code",
   "execution_count": 22,
   "id": "91454b96-1061-45d9-903f-fe3a1ee0bdab",
   "metadata": {},
   "outputs": [
    {
     "name": "stdout",
     "output_type": "stream",
     "text": [
      "['nan' 'west' 'north' 'south' 'central' 'east']\n"
     ]
    }
   ],
   "source": [
    "print(df['region'].unique())"
   ]
  },
  {
   "cell_type": "code",
   "execution_count": 23,
   "id": "60b627c1-280d-4ce4-ade1-6617e726c49d",
   "metadata": {},
   "outputs": [
    {
     "name": "stdout",
     "output_type": "stream",
     "text": [
      "['basic' 'premium' 'pro' 'unknownplan' 'nan' 'prem']\n"
     ]
    },
    {
     "data": {
      "text/plain": [
       "0        basic\n",
       "1        basic\n",
       "2      premium\n",
       "3          pro\n",
       "4      premium\n",
       "        ...   \n",
       "295    premium\n",
       "296      basic\n",
       "297      basic\n",
       "298    premium\n",
       "299    premium\n",
       "Name: plan_selected, Length: 300, dtype: object"
      ]
     },
     "execution_count": 23,
     "metadata": {},
     "output_type": "execute_result"
    }
   ],
   "source": [
    "print(df['plan_selected'].unique())\n",
    "\n",
    "#Replace the inncorrect values to proper form\n",
    "\n",
    "df['plan_selected']= df['plan_selected'].replace('prem','premium') #Replaceing the incorrect values  \n",
    "df['plan_selected']"
   ]
  },
  {
   "cell_type": "code",
   "execution_count": 24,
   "id": "e3822dbd-5f56-4321-8e85-bf0b00814904",
   "metadata": {},
   "outputs": [
    {
     "name": "stdout",
     "output_type": "stream",
     "text": [
      "['female' 'male' 'non-binary' 'other' 'nan' '123']\n"
     ]
    },
    {
     "data": {
      "text/plain": [
       "0      female\n",
       "1        male\n",
       "2      others\n",
       "3        male\n",
       "4      others\n",
       "        ...  \n",
       "295       nan\n",
       "296    female\n",
       "297       nan\n",
       "298      male\n",
       "299      male\n",
       "Name: gender, Length: 300, dtype: object"
      ]
     },
     "execution_count": 24,
     "metadata": {},
     "output_type": "execute_result"
    }
   ],
   "source": [
    "print(df['gender'].unique())\n",
    "\n",
    "#Replace the inncorrect values to proper form\n",
    "\n",
    "df['gender'] = df['gender'].replace(['non-binary','123','other'],'others')   \n",
    "df['gender']"
   ]
  },
  {
   "cell_type": "markdown",
   "id": "12ce766e-f885-4ad0-8dce-413b163a3caf",
   "metadata": {},
   "source": [
    "#### 1.4.4 Marketing_opt_in and Age "
   ]
  },
  {
   "cell_type": "code",
   "execution_count": 26,
   "id": "34b1d327-2b87-4dd6-8bff-264d601ae7e2",
   "metadata": {},
   "outputs": [
    {
     "name": "stdout",
     "output_type": "stream",
     "text": [
      "0       No\n",
      "1      Yes\n",
      "2      Yes\n",
      "3       No\n",
      "4       No\n",
      "      ... \n",
      "295    Yes\n",
      "296    Yes\n",
      "297    Yes\n",
      "298     No\n",
      "299    Yes\n",
      "Name: marketing_opt_in, Length: 300, dtype: object\n"
     ]
    },
    {
     "data": {
      "text/plain": [
       "0      False\n",
       "1       True\n",
       "2       True\n",
       "3      False\n",
       "4      False\n",
       "       ...  \n",
       "295     True\n",
       "296     True\n",
       "297     True\n",
       "298    False\n",
       "299     True\n",
       "Name: marketing_opt_in, Length: 300, dtype: object"
      ]
     },
     "execution_count": 26,
     "metadata": {},
     "output_type": "execute_result"
    }
   ],
   "source": [
    "print(df['marketing_opt_in'])\n",
    "\n",
    " #Convert 'Yes' as True and 'No' as False for Boolean Operation \n",
    "\n",
    "df['marketing_opt_in'] = df['marketing_opt_in'].map({'Yes':True,'No':False,'Nil':False})  \n",
    "df['marketing_opt_in']              "
   ]
  },
  {
   "cell_type": "code",
   "execution_count": 27,
   "id": "cbd7c9f7-9f13-4a09-acc7-e9cbddc41d40",
   "metadata": {},
   "outputs": [
    {
     "name": "stdout",
     "output_type": "stream",
     "text": [
      "marketing_opt_in\n",
      "False    157\n",
      "True     133\n",
      "dtype: int64\n"
     ]
    }
   ],
   "source": [
    " #Change the datatype to boolean \n",
    "\n",
    "df['marketing_opt_in'] = df['marketing_opt_in'].astype('boolean')    \n",
    "df['marketing_opt_in']\n",
    "\n",
    "print(df.groupby('marketing_opt_in').size())"
   ]
  },
  {
   "cell_type": "code",
   "execution_count": 94,
   "id": "52eb4761-02d5-439f-b36b-761207bc8b76",
   "metadata": {},
   "outputs": [
    {
     "data": {
      "text/plain": [
       "0      34\n",
       "1      29\n",
       "2      34\n",
       "3      40\n",
       "4      25\n",
       "       ..\n",
       "295    40\n",
       "296    25\n",
       "297    60\n",
       "298    53\n",
       "299    29\n",
       "Name: age, Length: 300, dtype: Int64"
      ]
     },
     "execution_count": 94,
     "metadata": {},
     "output_type": "execute_result"
    }
   ],
   "source": [
    "#Replace the incorrect values \n",
    "\n",
    "df['age'] = df['age'].replace({'206':np.nan,'thirty':30}) \n",
    "df['age']"
   ]
  },
  {
   "cell_type": "markdown",
   "id": "67ef516a-a59c-4ecc-94f8-75d109f3b2cd",
   "metadata": {},
   "source": [
    "#### 1.4.5 Coverting the Datatypes "
   ]
  },
  {
   "cell_type": "code",
   "execution_count": 30,
   "id": "5b30c647-63f0-40e6-a5d0-92ef88a655a2",
   "metadata": {},
   "outputs": [
    {
     "data": {
      "text/plain": [
       "0      34\n",
       "1      29\n",
       "2      34\n",
       "3      40\n",
       "4      25\n",
       "       ..\n",
       "295    40\n",
       "296    25\n",
       "297    60\n",
       "298    53\n",
       "299    29\n",
       "Name: age, Length: 300, dtype: Int64"
      ]
     },
     "execution_count": 30,
     "metadata": {},
     "output_type": "execute_result"
    }
   ],
   "source": [
    "#Change the datatype to Int64 \n",
    "\n",
    "df['age'] = pd.to_numeric(df['age'], errors = 'coerce') \n",
    "df['age'] = df['age'].astype('Int64')                         \n",
    "df['age']"
   ]
  },
  {
   "cell_type": "code",
   "execution_count": 31,
   "id": "765ed61f-5f41-445d-8d86-58837252b80e",
   "metadata": {},
   "outputs": [
    {
     "data": {
      "text/html": [
       "<div>\n",
       "<style scoped>\n",
       "    .dataframe tbody tr th:only-of-type {\n",
       "        vertical-align: middle;\n",
       "    }\n",
       "\n",
       "    .dataframe tbody tr th {\n",
       "        vertical-align: top;\n",
       "    }\n",
       "\n",
       "    .dataframe thead th {\n",
       "        text-align: right;\n",
       "    }\n",
       "</style>\n",
       "<table border=\"1\" class=\"dataframe\">\n",
       "  <thead>\n",
       "    <tr style=\"text-align: right;\">\n",
       "      <th></th>\n",
       "      <th>customer_id</th>\n",
       "      <th>region</th>\n",
       "      <th>email</th>\n",
       "      <th>source</th>\n",
       "      <th>name</th>\n",
       "      <th>plan_selected</th>\n",
       "      <th>gender</th>\n",
       "    </tr>\n",
       "  </thead>\n",
       "  <tbody>\n",
       "    <tr>\n",
       "      <th>0</th>\n",
       "      <td>CUST00000</td>\n",
       "      <td>nan</td>\n",
       "      <td>&lt;NA&gt;</td>\n",
       "      <td>instagram</td>\n",
       "      <td>Joshua Bryant</td>\n",
       "      <td>basic</td>\n",
       "      <td>female</td>\n",
       "    </tr>\n",
       "    <tr>\n",
       "      <th>1</th>\n",
       "      <td>CUST00001</td>\n",
       "      <td>west</td>\n",
       "      <td>nicole1@example.com</td>\n",
       "      <td>linkedin</td>\n",
       "      <td>Nicole Stewart</td>\n",
       "      <td>basic</td>\n",
       "      <td>male</td>\n",
       "    </tr>\n",
       "    <tr>\n",
       "      <th>2</th>\n",
       "      <td>CUST00002</td>\n",
       "      <td>north</td>\n",
       "      <td>rachel2@example.com</td>\n",
       "      <td>google</td>\n",
       "      <td>Rachel Allen</td>\n",
       "      <td>premium</td>\n",
       "      <td>others</td>\n",
       "    </tr>\n",
       "    <tr>\n",
       "      <th>3</th>\n",
       "      <td>CUST00003</td>\n",
       "      <td>nan</td>\n",
       "      <td>zachary3@mailhub.org</td>\n",
       "      <td>youtube</td>\n",
       "      <td>Zachary Sanchez</td>\n",
       "      <td>pro</td>\n",
       "      <td>male</td>\n",
       "    </tr>\n",
       "    <tr>\n",
       "      <th>4</th>\n",
       "      <td>CUST00004</td>\n",
       "      <td>west</td>\n",
       "      <td>matthew4@mailhub.org</td>\n",
       "      <td>linkedin</td>\n",
       "      <td>&lt;NA&gt;</td>\n",
       "      <td>premium</td>\n",
       "      <td>others</td>\n",
       "    </tr>\n",
       "    <tr>\n",
       "      <th>...</th>\n",
       "      <td>...</td>\n",
       "      <td>...</td>\n",
       "      <td>...</td>\n",
       "      <td>...</td>\n",
       "      <td>...</td>\n",
       "      <td>...</td>\n",
       "      <td>...</td>\n",
       "    </tr>\n",
       "    <tr>\n",
       "      <th>295</th>\n",
       "      <td>CUST00295</td>\n",
       "      <td>west</td>\n",
       "      <td>gary95@example.com</td>\n",
       "      <td>google</td>\n",
       "      <td>Gary Smith</td>\n",
       "      <td>premium</td>\n",
       "      <td>nan</td>\n",
       "    </tr>\n",
       "    <tr>\n",
       "      <th>296</th>\n",
       "      <td>CUST00296</td>\n",
       "      <td>central</td>\n",
       "      <td>anthony96@mailhub.org</td>\n",
       "      <td>google</td>\n",
       "      <td>Anthony Roberts</td>\n",
       "      <td>basic</td>\n",
       "      <td>female</td>\n",
       "    </tr>\n",
       "    <tr>\n",
       "      <th>297</th>\n",
       "      <td>CUST00297</td>\n",
       "      <td>west</td>\n",
       "      <td>&lt;NA&gt;</td>\n",
       "      <td>instagram</td>\n",
       "      <td>Timothy Mclaughlin</td>\n",
       "      <td>basic</td>\n",
       "      <td>nan</td>\n",
       "    </tr>\n",
       "    <tr>\n",
       "      <th>298</th>\n",
       "      <td>CUST00298</td>\n",
       "      <td>south</td>\n",
       "      <td>justin98@mailhub.org</td>\n",
       "      <td>youtube</td>\n",
       "      <td>Justin Mcintyre</td>\n",
       "      <td>premium</td>\n",
       "      <td>male</td>\n",
       "    </tr>\n",
       "    <tr>\n",
       "      <th>299</th>\n",
       "      <td>CUST00299</td>\n",
       "      <td>north</td>\n",
       "      <td>mr.99@example.com</td>\n",
       "      <td>nan</td>\n",
       "      <td>Mr. Bruce Bridges</td>\n",
       "      <td>premium</td>\n",
       "      <td>male</td>\n",
       "    </tr>\n",
       "  </tbody>\n",
       "</table>\n",
       "<p>300 rows × 7 columns</p>\n",
       "</div>"
      ],
      "text/plain": [
       "    customer_id   region                  email     source  \\\n",
       "0     CUST00000      nan                   <NA>  instagram   \n",
       "1     CUST00001     west    nicole1@example.com   linkedin   \n",
       "2     CUST00002    north    rachel2@example.com     google   \n",
       "3     CUST00003      nan   zachary3@mailhub.org    youtube   \n",
       "4     CUST00004     west   matthew4@mailhub.org   linkedin   \n",
       "..          ...      ...                    ...        ...   \n",
       "295   CUST00295     west     gary95@example.com     google   \n",
       "296   CUST00296  central  anthony96@mailhub.org     google   \n",
       "297   CUST00297     west                   <NA>  instagram   \n",
       "298   CUST00298    south   justin98@mailhub.org    youtube   \n",
       "299   CUST00299    north      mr.99@example.com        nan   \n",
       "\n",
       "                   name plan_selected  gender  \n",
       "0         Joshua Bryant         basic  female  \n",
       "1        Nicole Stewart         basic    male  \n",
       "2          Rachel Allen       premium  others  \n",
       "3       Zachary Sanchez           pro    male  \n",
       "4                  <NA>       premium  others  \n",
       "..                  ...           ...     ...  \n",
       "295          Gary Smith       premium     nan  \n",
       "296     Anthony Roberts         basic  female  \n",
       "297  Timothy Mclaughlin         basic     nan  \n",
       "298     Justin Mcintyre       premium    male  \n",
       "299   Mr. Bruce Bridges       premium    male  \n",
       "\n",
       "[300 rows x 7 columns]"
      ]
     },
     "execution_count": 31,
     "metadata": {},
     "output_type": "execute_result"
    }
   ],
   "source": [
    "#coverting to String datatype  \n",
    "\n",
    "df[['customer_id','region','email','source','name','plan_selected','gender']] = df[['customer_id','region','email','source','name','plan_selected','gender']].astype('string')\n",
    "df[['customer_id','region','email','source','name','plan_selected','gender']]"
   ]
  },
  {
   "cell_type": "code",
   "execution_count": 32,
   "id": "65fdabc0-0df0-4ac1-b8b1-cee8f3cda14d",
   "metadata": {},
   "outputs": [
    {
     "data": {
      "text/plain": [
       "customer_id         string[python]\n",
       "name                string[python]\n",
       "email               string[python]\n",
       "signup_date         datetime64[ns]\n",
       "source              string[python]\n",
       "region              string[python]\n",
       "plan_selected       string[python]\n",
       "marketing_opt_in           boolean\n",
       "age                          Int64\n",
       "gender              string[python]\n",
       "dtype: object"
      ]
     },
     "execution_count": 32,
     "metadata": {},
     "output_type": "execute_result"
    }
   ],
   "source": [
    "df.dtypes"
   ]
  },
  {
   "cell_type": "markdown",
   "id": "ebc1d25a-5ba2-4b7a-a498-98ccdb00e039",
   "metadata": {
    "jp-MarkdownHeadingCollapsed": true
   },
   "source": [
    "### 1.5 Remove duplicate rows based on customer_id"
   ]
  },
  {
   "cell_type": "code",
   "execution_count": 34,
   "id": "df1105b5-f7f6-41c9-b8f9-765c252ca5bf",
   "metadata": {},
   "outputs": [
    {
     "data": {
      "text/plain": [
       "0"
      ]
     },
     "execution_count": 34,
     "metadata": {},
     "output_type": "execute_result"
    }
   ],
   "source": [
    "df.duplicated().sum()"
   ]
  },
  {
   "cell_type": "markdown",
   "id": "88ab4954-e362-4f69-a796-92ab0e7448bf",
   "metadata": {},
   "source": [
    "### 1.6 Handle missing values (e.g., region, email, age)"
   ]
  },
  {
   "cell_type": "code",
   "execution_count": 36,
   "id": "eeb31d6f-45ce-4f24-9053-4871959b7095",
   "metadata": {},
   "outputs": [
    {
     "data": {
      "text/html": [
       "<div>\n",
       "<style scoped>\n",
       "    .dataframe tbody tr th:only-of-type {\n",
       "        vertical-align: middle;\n",
       "    }\n",
       "\n",
       "    .dataframe tbody tr th {\n",
       "        vertical-align: top;\n",
       "    }\n",
       "\n",
       "    .dataframe thead th {\n",
       "        text-align: right;\n",
       "    }\n",
       "</style>\n",
       "<table border=\"1\" class=\"dataframe\">\n",
       "  <thead>\n",
       "    <tr style=\"text-align: right;\">\n",
       "      <th></th>\n",
       "      <th>region</th>\n",
       "      <th>email</th>\n",
       "      <th>age</th>\n",
       "    </tr>\n",
       "  </thead>\n",
       "  <tbody>\n",
       "    <tr>\n",
       "      <th>0</th>\n",
       "      <td>nan</td>\n",
       "      <td>&lt;NA&gt;</td>\n",
       "      <td>34</td>\n",
       "    </tr>\n",
       "    <tr>\n",
       "      <th>1</th>\n",
       "      <td>west</td>\n",
       "      <td>nicole1@example.com</td>\n",
       "      <td>29</td>\n",
       "    </tr>\n",
       "    <tr>\n",
       "      <th>2</th>\n",
       "      <td>north</td>\n",
       "      <td>rachel2@example.com</td>\n",
       "      <td>34</td>\n",
       "    </tr>\n",
       "    <tr>\n",
       "      <th>3</th>\n",
       "      <td>nan</td>\n",
       "      <td>zachary3@mailhub.org</td>\n",
       "      <td>40</td>\n",
       "    </tr>\n",
       "    <tr>\n",
       "      <th>4</th>\n",
       "      <td>west</td>\n",
       "      <td>matthew4@mailhub.org</td>\n",
       "      <td>25</td>\n",
       "    </tr>\n",
       "    <tr>\n",
       "      <th>...</th>\n",
       "      <td>...</td>\n",
       "      <td>...</td>\n",
       "      <td>...</td>\n",
       "    </tr>\n",
       "    <tr>\n",
       "      <th>295</th>\n",
       "      <td>west</td>\n",
       "      <td>gary95@example.com</td>\n",
       "      <td>40</td>\n",
       "    </tr>\n",
       "    <tr>\n",
       "      <th>296</th>\n",
       "      <td>central</td>\n",
       "      <td>anthony96@mailhub.org</td>\n",
       "      <td>25</td>\n",
       "    </tr>\n",
       "    <tr>\n",
       "      <th>297</th>\n",
       "      <td>west</td>\n",
       "      <td>&lt;NA&gt;</td>\n",
       "      <td>60</td>\n",
       "    </tr>\n",
       "    <tr>\n",
       "      <th>298</th>\n",
       "      <td>south</td>\n",
       "      <td>justin98@mailhub.org</td>\n",
       "      <td>53</td>\n",
       "    </tr>\n",
       "    <tr>\n",
       "      <th>299</th>\n",
       "      <td>north</td>\n",
       "      <td>mr.99@example.com</td>\n",
       "      <td>29</td>\n",
       "    </tr>\n",
       "  </tbody>\n",
       "</table>\n",
       "<p>300 rows × 3 columns</p>\n",
       "</div>"
      ],
      "text/plain": [
       "      region                  email  age\n",
       "0        nan                   <NA>   34\n",
       "1       west    nicole1@example.com   29\n",
       "2      north    rachel2@example.com   34\n",
       "3        nan   zachary3@mailhub.org   40\n",
       "4       west   matthew4@mailhub.org   25\n",
       "..       ...                    ...  ...\n",
       "295     west     gary95@example.com   40\n",
       "296  central  anthony96@mailhub.org   25\n",
       "297     west                   <NA>   60\n",
       "298    south   justin98@mailhub.org   53\n",
       "299    north      mr.99@example.com   29\n",
       "\n",
       "[300 rows x 3 columns]"
      ]
     },
     "execution_count": 36,
     "metadata": {},
     "output_type": "execute_result"
    }
   ],
   "source": [
    "df[['region', 'email', 'age']] = df[['region', 'email', 'age']].replace(r'^\\s*$',np.nan, regex=True)\n",
    "df[['region', 'email', 'age']]"
   ]
  },
  {
   "cell_type": "code",
   "execution_count": 37,
   "id": "fb863d78-1c1b-460d-bc2f-89e26d5e3abc",
   "metadata": {},
   "outputs": [],
   "source": [
    "#Replace all 'nan' to null values \n",
    "\n",
    "df['source'] = df['source'].replace('nan',np.nan)\n",
    "df['region'] = df['region'].replace('nan',np.nan)\n",
    "df['plan_selected'] = df['plan_selected'].replace('nan',np.nan)\n",
    "df['marketing_opt_in'] = df['marketing_opt_in'].replace('nan',np.nan)\n",
    "df['age'] = df['age'].replace('nan',np.nan)\n",
    "df['gender'] = df['gender'].replace('nan',np.nan)"
   ]
  },
  {
   "cell_type": "markdown",
   "id": "a8ef4b88-286c-4f44-b04b-25694b55e28f",
   "metadata": {},
   "source": [
    "## 1.2  Data Quality Summary"
   ]
  },
  {
   "cell_type": "markdown",
   "id": "c3a22b3a-cd15-4dc0-ac6f-123fc98e38d9",
   "metadata": {},
   "source": [
    "### 1.2.1 Count of missing values per column"
   ]
  },
  {
   "cell_type": "code",
   "execution_count": 40,
   "id": "fc3a657d-26fa-409e-bd36-e94359c4a8b0",
   "metadata": {},
   "outputs": [
    {
     "data": {
      "text/plain": [
       "customer_id          0\n",
       "name                 9\n",
       "email               34\n",
       "signup_date          6\n",
       "source              15\n",
       "region              30\n",
       "plan_selected        8\n",
       "marketing_opt_in    10\n",
       "age                 18\n",
       "gender               8\n",
       "dtype: int64"
      ]
     },
     "execution_count": 40,
     "metadata": {},
     "output_type": "execute_result"
    }
   ],
   "source": [
    "null_counts = df.isnull().sum()\n",
    "null_counts "
   ]
  },
  {
   "cell_type": "markdown",
   "id": "0cae7db3-052f-451a-9dfe-7d570a73c1d4",
   "metadata": {},
   "source": [
    "### 1.2.2  % of missing values"
   ]
  },
  {
   "cell_type": "code",
   "execution_count": 42,
   "id": "26329ba7-1526-4778-83d3-5f6b1c49b4af",
   "metadata": {},
   "outputs": [
    {
     "data": {
      "text/plain": [
       "customer_id          0.00\n",
       "name                 3.00\n",
       "email               11.33\n",
       "signup_date          2.00\n",
       "source               5.00\n",
       "region              10.00\n",
       "plan_selected        2.67\n",
       "marketing_opt_in     3.33\n",
       "age                  6.00\n",
       "gender               2.67\n",
       "dtype: float64"
      ]
     },
     "execution_count": 42,
     "metadata": {},
     "output_type": "execute_result"
    }
   ],
   "source": [
    "percent_of_missing_values = round(((null_counts/300)*100),2)\n",
    "percent_of_missing_values"
   ]
  },
  {
   "cell_type": "markdown",
   "id": "d784d31a-0907-46fa-b182-a6606c762dca",
   "metadata": {},
   "source": [
    "### 1.2.3 Number of duplicates removed"
   ]
  },
  {
   "cell_type": "code",
   "execution_count": 44,
   "id": "92bdd3bd-19a3-4bce-bce4-dedec613cd66",
   "metadata": {},
   "outputs": [
    {
     "data": {
      "text/html": [
       "<div>\n",
       "<style scoped>\n",
       "    .dataframe tbody tr th:only-of-type {\n",
       "        vertical-align: middle;\n",
       "    }\n",
       "\n",
       "    .dataframe tbody tr th {\n",
       "        vertical-align: top;\n",
       "    }\n",
       "\n",
       "    .dataframe thead th {\n",
       "        text-align: right;\n",
       "    }\n",
       "</style>\n",
       "<table border=\"1\" class=\"dataframe\">\n",
       "  <thead>\n",
       "    <tr style=\"text-align: right;\">\n",
       "      <th></th>\n",
       "      <th>customer_id</th>\n",
       "      <th>name</th>\n",
       "      <th>email</th>\n",
       "      <th>signup_date</th>\n",
       "      <th>source</th>\n",
       "      <th>region</th>\n",
       "      <th>plan_selected</th>\n",
       "      <th>marketing_opt_in</th>\n",
       "      <th>age</th>\n",
       "      <th>gender</th>\n",
       "    </tr>\n",
       "  </thead>\n",
       "  <tbody>\n",
       "    <tr>\n",
       "      <th>0</th>\n",
       "      <td>CUST00000</td>\n",
       "      <td>Joshua Bryant</td>\n",
       "      <td>&lt;NA&gt;</td>\n",
       "      <td>NaT</td>\n",
       "      <td>instagram</td>\n",
       "      <td>&lt;NA&gt;</td>\n",
       "      <td>basic</td>\n",
       "      <td>False</td>\n",
       "      <td>34</td>\n",
       "      <td>female</td>\n",
       "    </tr>\n",
       "    <tr>\n",
       "      <th>1</th>\n",
       "      <td>CUST00001</td>\n",
       "      <td>Nicole Stewart</td>\n",
       "      <td>nicole1@example.com</td>\n",
       "      <td>2024-01-02</td>\n",
       "      <td>linkedin</td>\n",
       "      <td>west</td>\n",
       "      <td>basic</td>\n",
       "      <td>True</td>\n",
       "      <td>29</td>\n",
       "      <td>male</td>\n",
       "    </tr>\n",
       "    <tr>\n",
       "      <th>2</th>\n",
       "      <td>CUST00002</td>\n",
       "      <td>Rachel Allen</td>\n",
       "      <td>rachel2@example.com</td>\n",
       "      <td>2024-01-03</td>\n",
       "      <td>google</td>\n",
       "      <td>north</td>\n",
       "      <td>premium</td>\n",
       "      <td>True</td>\n",
       "      <td>34</td>\n",
       "      <td>others</td>\n",
       "    </tr>\n",
       "    <tr>\n",
       "      <th>3</th>\n",
       "      <td>CUST00003</td>\n",
       "      <td>Zachary Sanchez</td>\n",
       "      <td>zachary3@mailhub.org</td>\n",
       "      <td>2024-01-04</td>\n",
       "      <td>youtube</td>\n",
       "      <td>&lt;NA&gt;</td>\n",
       "      <td>pro</td>\n",
       "      <td>False</td>\n",
       "      <td>40</td>\n",
       "      <td>male</td>\n",
       "    </tr>\n",
       "    <tr>\n",
       "      <th>4</th>\n",
       "      <td>CUST00004</td>\n",
       "      <td>&lt;NA&gt;</td>\n",
       "      <td>matthew4@mailhub.org</td>\n",
       "      <td>2024-01-05</td>\n",
       "      <td>linkedin</td>\n",
       "      <td>west</td>\n",
       "      <td>premium</td>\n",
       "      <td>False</td>\n",
       "      <td>25</td>\n",
       "      <td>others</td>\n",
       "    </tr>\n",
       "    <tr>\n",
       "      <th>...</th>\n",
       "      <td>...</td>\n",
       "      <td>...</td>\n",
       "      <td>...</td>\n",
       "      <td>...</td>\n",
       "      <td>...</td>\n",
       "      <td>...</td>\n",
       "      <td>...</td>\n",
       "      <td>...</td>\n",
       "      <td>...</td>\n",
       "      <td>...</td>\n",
       "    </tr>\n",
       "    <tr>\n",
       "      <th>295</th>\n",
       "      <td>CUST00295</td>\n",
       "      <td>Gary Smith</td>\n",
       "      <td>gary95@example.com</td>\n",
       "      <td>2024-10-22</td>\n",
       "      <td>google</td>\n",
       "      <td>west</td>\n",
       "      <td>premium</td>\n",
       "      <td>True</td>\n",
       "      <td>40</td>\n",
       "      <td>&lt;NA&gt;</td>\n",
       "    </tr>\n",
       "    <tr>\n",
       "      <th>296</th>\n",
       "      <td>CUST00296</td>\n",
       "      <td>Anthony Roberts</td>\n",
       "      <td>anthony96@mailhub.org</td>\n",
       "      <td>2024-10-23</td>\n",
       "      <td>google</td>\n",
       "      <td>central</td>\n",
       "      <td>basic</td>\n",
       "      <td>True</td>\n",
       "      <td>25</td>\n",
       "      <td>female</td>\n",
       "    </tr>\n",
       "    <tr>\n",
       "      <th>297</th>\n",
       "      <td>CUST00297</td>\n",
       "      <td>Timothy Mclaughlin</td>\n",
       "      <td>&lt;NA&gt;</td>\n",
       "      <td>2024-10-24</td>\n",
       "      <td>instagram</td>\n",
       "      <td>west</td>\n",
       "      <td>basic</td>\n",
       "      <td>True</td>\n",
       "      <td>60</td>\n",
       "      <td>&lt;NA&gt;</td>\n",
       "    </tr>\n",
       "    <tr>\n",
       "      <th>298</th>\n",
       "      <td>CUST00298</td>\n",
       "      <td>Justin Mcintyre</td>\n",
       "      <td>justin98@mailhub.org</td>\n",
       "      <td>2024-10-25</td>\n",
       "      <td>youtube</td>\n",
       "      <td>south</td>\n",
       "      <td>premium</td>\n",
       "      <td>False</td>\n",
       "      <td>53</td>\n",
       "      <td>male</td>\n",
       "    </tr>\n",
       "    <tr>\n",
       "      <th>299</th>\n",
       "      <td>CUST00299</td>\n",
       "      <td>Mr. Bruce Bridges</td>\n",
       "      <td>mr.99@example.com</td>\n",
       "      <td>2024-10-26</td>\n",
       "      <td>&lt;NA&gt;</td>\n",
       "      <td>north</td>\n",
       "      <td>premium</td>\n",
       "      <td>True</td>\n",
       "      <td>29</td>\n",
       "      <td>male</td>\n",
       "    </tr>\n",
       "  </tbody>\n",
       "</table>\n",
       "<p>300 rows × 10 columns</p>\n",
       "</div>"
      ],
      "text/plain": [
       "    customer_id                name                  email signup_date  \\\n",
       "0     CUST00000       Joshua Bryant                   <NA>         NaT   \n",
       "1     CUST00001      Nicole Stewart    nicole1@example.com  2024-01-02   \n",
       "2     CUST00002        Rachel Allen    rachel2@example.com  2024-01-03   \n",
       "3     CUST00003     Zachary Sanchez   zachary3@mailhub.org  2024-01-04   \n",
       "4     CUST00004                <NA>   matthew4@mailhub.org  2024-01-05   \n",
       "..          ...                 ...                    ...         ...   \n",
       "295   CUST00295          Gary Smith     gary95@example.com  2024-10-22   \n",
       "296   CUST00296     Anthony Roberts  anthony96@mailhub.org  2024-10-23   \n",
       "297   CUST00297  Timothy Mclaughlin                   <NA>  2024-10-24   \n",
       "298   CUST00298     Justin Mcintyre   justin98@mailhub.org  2024-10-25   \n",
       "299   CUST00299   Mr. Bruce Bridges      mr.99@example.com  2024-10-26   \n",
       "\n",
       "        source   region plan_selected  marketing_opt_in  age  gender  \n",
       "0    instagram     <NA>         basic             False   34  female  \n",
       "1     linkedin     west         basic              True   29    male  \n",
       "2       google    north       premium              True   34  others  \n",
       "3      youtube     <NA>           pro             False   40    male  \n",
       "4     linkedin     west       premium             False   25  others  \n",
       "..         ...      ...           ...               ...  ...     ...  \n",
       "295     google     west       premium              True   40    <NA>  \n",
       "296     google  central         basic              True   25  female  \n",
       "297  instagram     west         basic              True   60    <NA>  \n",
       "298    youtube    south       premium             False   53    male  \n",
       "299       <NA>    north       premium              True   29    male  \n",
       "\n",
       "[300 rows x 10 columns]"
      ]
     },
     "execution_count": 44,
     "metadata": {},
     "output_type": "execute_result"
    }
   ],
   "source": [
    "# Drop duplicates based on the 'customer_id' column\n",
    "df = df.drop_duplicates(subset='customer_id')\n",
    "df"
   ]
  },
  {
   "cell_type": "markdown",
   "id": "5dd40924-5d97-4118-b930-2c12e7601e4c",
   "metadata": {},
   "source": [
    "## 1.3  Summary Outputs (Using Pandas Aggregations)\n",
    "\n",
    "Use .groupby() or .value_counts() to summarise:"
   ]
  },
  {
   "cell_type": "code",
   "execution_count": 46,
   "id": "55102505-ac78-461b-8698-9af33410143f",
   "metadata": {},
   "outputs": [
    {
     "data": {
      "text/plain": [
       "signup_date\n",
       "2024-W01    6\n",
       "2024-W02    7\n",
       "2024-W03    7\n",
       "2024-W04    7\n",
       "2024-W05    8\n",
       "2024-W06    7\n",
       "2024-W07    7\n",
       "2024-W08    7\n",
       "2024-W09    7\n",
       "2024-W10    7\n",
       "2024-W11    7\n",
       "2024-W12    6\n",
       "2024-W13    6\n",
       "2024-W14    7\n",
       "2024-W15    7\n",
       "2024-W16    7\n",
       "2024-W17    7\n",
       "2024-W18    6\n",
       "2024-W19    7\n",
       "2024-W20    7\n",
       "2024-W21    7\n",
       "2024-W22    7\n",
       "2024-W23    6\n",
       "2024-W24    7\n",
       "2024-W25    7\n",
       "2024-W26    7\n",
       "2024-W27    7\n",
       "2024-W28    7\n",
       "2024-W29    6\n",
       "2024-W30    7\n",
       "2024-W31    7\n",
       "2024-W32    6\n",
       "2024-W33    7\n",
       "2024-W34    7\n",
       "2024-W35    7\n",
       "2024-W36    7\n",
       "2024-W37    7\n",
       "2024-W38    7\n",
       "2024-W39    7\n",
       "2024-W40    7\n",
       "2024-W41    7\n",
       "2024-W42    7\n",
       "2024-W43    6\n",
       "Name: customer_id, dtype: int64"
      ]
     },
     "execution_count": 46,
     "metadata": {},
     "output_type": "execute_result"
    }
   ],
   "source": [
    "## Sign-ups per week (grouped by signup_date)\n",
    "\n",
    "weekly_count = df.groupby(df['signup_date'].dt.strftime('%Y-W%V'))['customer_id'].count()\n",
    "weekly_count"
   ]
  },
  {
   "cell_type": "code",
   "execution_count": 47,
   "id": "fe0094c9-298b-4194-9088-6e96badf9804",
   "metadata": {},
   "outputs": [
    {
     "data": {
      "text/plain": [
       "source    region   plan_selected\n",
       "facebook  central  premium          4\n",
       "                   pro              3\n",
       "          east     basic            3\n",
       "                   premium          3\n",
       "                   pro              4\n",
       "          north    basic            1\n",
       "                   premium          2\n",
       "                   pro              4\n",
       "          south    basic            1\n",
       "                   premium          4\n",
       "                   pro              1\n",
       "          west     premium          1\n",
       "                   pro              1\n",
       "google    central  basic            2\n",
       "                   premium          2\n",
       "                   pro              6\n",
       "          east     basic            1\n",
       "                   premium          4\n",
       "                   pro              1\n",
       "                   unknownplan      1\n",
       "Name: signup_date, dtype: int64"
      ]
     },
     "execution_count": 47,
     "metadata": {},
     "output_type": "execute_result"
    }
   ],
   "source": [
    "## Sign-ups by source, region, and plan_selected\n",
    "\n",
    "df.groupby(['source','region','plan_selected'])['signup_date'].count().head(20)"
   ]
  },
  {
   "cell_type": "code",
   "execution_count": 48,
   "id": "49286be7-b602-4722-bc62-868b2b2d4cf3",
   "metadata": {},
   "outputs": [
    {
     "data": {
      "text/plain": [
       "gender\n",
       "female     92\n",
       "male       89\n",
       "others    101\n",
       "Name: marketing_opt_in, dtype: Int64"
      ]
     },
     "execution_count": 48,
     "metadata": {},
     "output_type": "execute_result"
    }
   ],
   "source": [
    "## Marketing opt-in counts by gender\n",
    "\n",
    "df.groupby(['gender'])['marketing_opt_in'].count()"
   ]
  },
  {
   "cell_type": "code",
   "execution_count": 96,
   "id": "791feabc-550c-4c00-9ba2-ec411e61bb54",
   "metadata": {},
   "outputs": [
    {
     "name": "stdout",
     "output_type": "stream",
     "text": [
      "Min age of customers is  21\n",
      "Max age of customers is  206\n",
      "Mean of age customers is  36.11347517730496\n",
      "Median of age of customers is  34.0\n",
      "Count of nulls in age is  18\n"
     ]
    }
   ],
   "source": [
    "#Age summary: min, max, mean, median, null count\n",
    "\n",
    "print(\"Min age of customers is \",df['age'].min())\n",
    "print(\"Max age of customers is \",df['age'].max())\n",
    "print(\"Mean of age customers is \",df['age'].mean())\n",
    "print(\"Median of age of customers is \",df['age'].median())\n",
    "print(\"Count of nulls in age is \",df['age'].isna().sum())"
   ]
  },
  {
   "cell_type": "markdown",
   "id": "aac48d70-0cb1-4826-9ae4-720cb154908c",
   "metadata": {},
   "source": [
    "## 1.4 Business Questions"
   ]
  },
  {
   "cell_type": "code",
   "execution_count": 51,
   "id": "d5da57de-6e0e-4f8b-a686-9d645af2f5de",
   "metadata": {},
   "outputs": [
    {
     "name": "stdout",
     "output_type": "stream",
     "text": [
      "The highest number of users last month ( September ) came from the source ' YOUTUBE '\n"
     ]
    }
   ],
   "source": [
    "## Which acquisition source brought in the most users last month?\n",
    "#Which acquisition source brought in the most users last month?\n",
    "month = df.groupby([df['signup_date'].dt.strftime('%B'),'source'])['customer_id'].count()\n",
    "month\n",
    "last_month = month.index.get_level_values(0).unique()[-1]  # Get the last month\n",
    "last_month_data = month.xs(last_month, level=0)  # Filter for just that month\n",
    "max_source = last_month_data.idxmax()  # Find the source with max users \n",
    "print(\"The highest number of users last month (\",last_month,\") came from the source '\",str.upper(max_source),\"'\")"
   ]
  },
  {
   "cell_type": "code",
   "execution_count": 52,
   "id": "f33370fb-a1c8-45ef-a280-9e87f19f7883",
   "metadata": {},
   "outputs": [
    {
     "name": "stdout",
     "output_type": "stream",
     "text": [
      "\n",
      "Count of null values in region column: 30\n",
      "\n",
      "Group counts by region:\n",
      "region\n",
      "central    39\n",
      "east       61\n",
      "north      65\n",
      "south      59\n",
      "west       46\n",
      "dtype: int64\n"
     ]
    }
   ],
   "source": [
    "# Which region shows signs of missing or incomplete data?\n",
    "\n",
    "print(\"\\nCount of null values in region column:\", df['region'].isnull().sum())\n",
    "\n",
    "## Group by Region\n",
    "region_groups = df.groupby('region')\n",
    "print(\"\\nGroup counts by region:\")\n",
    "print(region_groups.size())"
   ]
  },
  {
   "cell_type": "code",
   "execution_count": 53,
   "id": "0f9bd0dc-dc0a-4d97-b6c5-1319a007eaac",
   "metadata": {},
   "outputs": [
    {
     "name": "stdout",
     "output_type": "stream",
     "text": [
      "No.of old users  marketing_opt_in    18\n",
      "dtype: int64\n",
      "No.of young users  marketing_opt_in    106\n",
      "dtype: int64\n"
     ]
    }
   ],
   "source": [
    "## Are older users more or less likely to opt in to marketing?\n",
    "\n",
    "old = df[(df['age'] > 50) & (df['marketing_opt_in']== True)][['marketing_opt_in']]\n",
    "print(\"No.of old users \",old.count())\n",
    "young =  df[(df['age'] < 50) & (df['marketing_opt_in']==True)][['marketing_opt_in']]\n",
    "print(\"No.of young users \",young.count())"
   ]
  },
  {
   "cell_type": "code",
   "execution_count": 98,
   "id": "9127dd10-0bab-4e39-a8aa-845a3f45b035",
   "metadata": {},
   "outputs": [
    {
     "name": "stderr",
     "output_type": "stream",
     "text": [
      "/var/folders/cp/ppr7gj1102lcjn2shl1ggyn40000gn/T/ipykernel_6807/3132018193.py:10: FutureWarning: The default of observed=False is deprecated and will be changed to True in a future version of pandas. Pass observed=False to retain current behavior or observed=True to adopt the future default and silence this warning.\n",
      "  df.groupby(['age_group','plan_selected'])['customer_id'].count()\n"
     ]
    },
    {
     "data": {
      "text/plain": [
       "age_group  plan_selected\n",
       "18–25      basic            28\n",
       "           premium          23\n",
       "           pro              24\n",
       "           unknownplan       0\n",
       "26–35      basic            23\n",
       "           premium          31\n",
       "           pro              32\n",
       "           unknownplan       2\n",
       "36–45      basic            11\n",
       "           premium          23\n",
       "           pro              13\n",
       "           unknownplan       2\n",
       "46–60      basic            19\n",
       "           premium          19\n",
       "           pro              21\n",
       "           unknownplan       2\n",
       "60+        basic             0\n",
       "           premium           0\n",
       "           pro               0\n",
       "           unknownplan       0\n",
       "Name: customer_id, dtype: int64"
      ]
     },
     "execution_count": 98,
     "metadata": {},
     "output_type": "execute_result"
    }
   ],
   "source": [
    "##Which plan is most commonly selected, and by which age group?\n",
    "\n",
    "##cretaing bins for age group and grouping of ages\n",
    "bins = [0, 25, 35, 45, 60, 100]\n",
    "labels = ['18–25', '26–35', '36–45', '46–60', '60+']\n",
    "\n",
    "df['age_group'] = pd.cut(df['age'], bins=bins, labels=labels, right=True, include_lowest=True)\n",
    "df['age_group']\n",
    "\n",
    "df.groupby(['age_group','plan_selected'])['customer_id'].count()"
   ]
  },
  {
   "cell_type": "code",
   "execution_count": null,
   "id": "21cdc093-625c-43f6-a9d8-b330a902851a",
   "metadata": {},
   "outputs": [],
   "source": []
  },
  {
   "cell_type": "code",
   "execution_count": null,
   "id": "ec0636d1-97fb-4a92-af89-c3cef880d5a5",
   "metadata": {},
   "outputs": [],
   "source": []
  }
 ],
 "metadata": {
  "kernelspec": {
   "display_name": "Python 3 (ipykernel)",
   "language": "python",
   "name": "python3"
  },
  "language_info": {
   "codemirror_mode": {
    "name": "ipython",
    "version": 3
   },
   "file_extension": ".py",
   "mimetype": "text/x-python",
   "name": "python",
   "nbconvert_exporter": "python",
   "pygments_lexer": "ipython3",
   "version": "3.12.4"
  },
  "panel-cell-order": [
   "c37372d2-fcdc-4992-859b-01229c6154d0",
   "d5e52174-fce2-405b-a395-5be277ba307c",
   "45186866-a8b6-4394-98fa-573a18d32fe6",
   "06450664-3a18-4b12-a8ee-f1cd34d9232f",
   "0ca43684-263b-4f05-b9a5-d0ada0e976b3",
   "97f95e98-af66-40d5-8e4c-29a83669768b",
   "7552fb25-3c60-45a9-93d1-807716c8b09e",
   "ab53e5a3-cd38-41c8-aa49-6ff21e843dcd",
   "478e9d1d-cfe5-4613-ad19-8631099d7bbd",
   "a0223dac-64ce-4b2b-a041-b58c82c835af",
   "29229e1e-b697-4de9-86eb-109a760b5fdb"
  ]
 },
 "nbformat": 4,
 "nbformat_minor": 5
}
